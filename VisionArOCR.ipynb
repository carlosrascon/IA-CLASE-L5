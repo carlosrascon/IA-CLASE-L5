{
 "cells": [
  {
   "cell_type": "markdown",
   "metadata": {},
   "source": [
    "# Visión Artificial: Character recognition (OCR)"
   ]
  },
  {
   "cell_type": "markdown",
   "metadata": {},
   "source": [
    "## Alumno: Carlos Antonio Rascon Carlos 16111750"
   ]
  },
  {
   "cell_type": "markdown",
   "metadata": {},
   "source": [
    "Hacer que la computadora tenga ojos no es tarea facil. Si, puedes tomar una camara web, pero eso no significa que la computadora pueda analizar lo que esta viendo."
   ]
  },
  {
   "cell_type": "markdown",
   "metadata": {},
   "source": [
    "Los acontecimientos recientes hicieron avanzar el campo. Con la tecnologia Deep Learning ahora pueden hacer observaciones basicas de diferentes objeros en muchas posiciones diferentes."
   ]
  },
  {
   "cell_type": "markdown",
   "metadata": {},
   "source": [
    "Entonces, si no sabes nada sobre aprendizaje profundo o las redes neuronales. ¿Como comienzas en el campo de la vision por computadora? "
   ]
  },
  {
   "cell_type": "markdown",
   "metadata": {},
   "source": [
    "Por supuesto, no puede comenzar con los conceptos mas complicados y trabajar hacia atras. Tienes que empezar por lo basico."
   ]
  },
  {
   "cell_type": "markdown",
   "metadata": {},
   "source": [
    "En el nivel mas basico, puede hacer reconocimiento de patrones. Para reducir la complejidad, recomiendo comenzar aprendiendo Python en lugar de C++."
   ]
  },
  {
   "cell_type": "markdown",
   "metadata": {},
   "source": [
    "El reconocimiento de caracteres (OCR) es una tarea muy basica de vision artificial"
   ]
  },
  {
   "cell_type": "markdown",
   "metadata": {},
   "source": [
    "### OCR con Python "
   ]
  },
  {
   "cell_type": "markdown",
   "metadata": {},
   "source": [
    "El siguiente codigo traducira el texto de la imagen a texto en la terminal."
   ]
  },
  {
   "cell_type": "code",
   "execution_count": 2,
   "metadata": {},
   "outputs": [
    {
     "name": "stdout",
     "output_type": "stream",
     "text": [
      "10 DOWNING STREET\n",
      "LONDON SWI1A 2AA.\n",
      "\n",
      "THE PRIME MINISTER 1 May 2019\n",
      "\n",
      "\"Den Conde\n",
      "\n",
      "Thank you for your time this evening. We discussed the investigation into the\n",
      "unauthorised disclosure of information from the National Security Council\n",
      "meeting on 23 April.\n"
     ]
    }
   ],
   "source": [
    "from PIL import Image\n",
    "import pytesseract\n",
    "\n",
    "def ocr_core(filename):\n",
    "    text = pytesseract.image_to_string(Image.open(filename))\n",
    "    return text\n",
    "data =ocr_core('image2.jpeg')\n",
    "print(data)"
   ]
  },
  {
   "cell_type": "code",
   "execution_count": null,
   "metadata": {},
   "outputs": [],
   "source": []
  }
 ],
 "metadata": {
  "kernelspec": {
   "display_name": "Python 3",
   "language": "python",
   "name": "python3"
  },
  "language_info": {
   "codemirror_mode": {
    "name": "ipython",
    "version": 3
   },
   "file_extension": ".py",
   "mimetype": "text/x-python",
   "name": "python",
   "nbconvert_exporter": "python",
   "pygments_lexer": "ipython3",
   "version": "3.7.7"
  }
 },
 "nbformat": 4,
 "nbformat_minor": 4
}
