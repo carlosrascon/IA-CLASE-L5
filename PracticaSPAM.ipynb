{
 "cells": [
  {
   "cell_type": "markdown",
   "metadata": {},
   "source": [
    "# Correos SPAM "
   ]
  },
  {
   "cell_type": "markdown",
   "metadata": {},
   "source": [
    "## Alumno Carlos Antonio Rascon Carlos  16111750 "
   ]
  },
  {
   "cell_type": "markdown",
   "metadata": {},
   "source": [
    "Los correos electronicos no deseados en su bandeja de entrada son molestos ya que perturban la rutina del usuario. Es por eso que las cuentas de correo electronico ya tienen un filtro spam. Dado que es una de las aplicaciones de PLN mas utilizadas vamos a ver como se desarrollo un filtro de spam simple para correos electronicos."
   ]
  },
  {
   "cell_type": "code",
   "execution_count": 11,
   "metadata": {},
   "outputs": [],
   "source": [
    "#Importamos las librerias\n",
    "from functools import reduce\n",
    "\n",
    "import nltk\n",
    "from nltk.stem import WordNetLemmatizer\n",
    "import pandas as pd\n",
    "import string\n",
    "import re"
   ]
  },
  {
   "cell_type": "code",
   "execution_count": 12,
   "metadata": {},
   "outputs": [],
   "source": [
    "#Insertando los datos \n",
    "full_corpues = pd.read_csv('SMSSpamCollection.tsv', sep='\\t', header=None, names=['label', 'msg_body'])\n",
    "\n",
    "#Separando los mensajes en 'ham' y 'spam'\n",
    "ham_text = []\n",
    "spam_text = []"
   ]
  },
  {
   "cell_type": "markdown",
   "metadata": {},
   "source": [
    "### Bigrams "
   ]
  },
  {
   "cell_type": "markdown",
   "metadata": {},
   "source": [
    "Los N-gramos se usan para modelar el lenguaje en funcion de la prediccion de palabras, es decir predice la siguiente palabra de una oracion de palabras N-1 anteriores. Bigram es la secuencia de 2 palabras de N-gramos que predice la siguiente palabra de una oracion usando la palabra anterior. En lugar de considerar la historia completa de una oracion o una secuencia de palabras en particular. un modelo como bigram puede ser ocupado en terminos de una aproximacion de la historia al ocupar una historia al ocupar una historia limitada.\n",
    "\n",
    "La identificacion de un mensaje como \"ham\" o \"spam\" es una tarea de clasificacion ya que la variable de destino tiene valores discretos que som \"ham\" o \"sapm\". En esta practica, se usa el modelo bigram, aunque existen muchas tecnicas avanzadas que se pueden utilizar para este proposito. Para utilizar el modelo bigram para asignar un mensaje dado como \"spam\" o \"ham\", hay varios pasos que deben lograrse: "
   ]
  },
  {
   "cell_type": "markdown",
   "metadata": {},
   "source": [
    "###  1. Inspeccion y separacion de mensajes en las categorias \"ham\" y \"Spam\"1"
   ]
  },
  {
   "cell_type": "markdown",
   "metadata": {},
   "source": [
    "Inicialmente el conunto de datos debe inspeccionarse para ocuparlo y abordarlo para lograr la tarea. El formato de los datos dados, la cantidad de datos proporcionados, la naturaleza de los datos se incluyen en esta inspeccion para identificar la mejor aproximacion posible para la tarea. \n",
    "\n",
    "\n",
    "El corpus de mensajes dado ha mercado cada mensaje como ham spam. ademas hay 5568 mensajes en un DAtaFrame escrito en inlges que no son objetos nulos. Por lo tanto, el archivo tsv se puede leer usando DataFrame en pythin para clasificar esos mensajes de acuerdo eon el indicador dado. "
   ]
  },
  {
   "cell_type": "code",
   "execution_count": 13,
   "metadata": {},
   "outputs": [],
   "source": [
    "def separate_msgs():\n",
    "    for index, column in full_corpues.iterrows():\n",
    "        label = column[0]\n",
    "        message_text = column[1]\n",
    "        if label == 'ham':\n",
    "            ham_text.append(message_text)\n",
    "        elif label == 'spam':\n",
    "            spam_text.append(message_text)\n",
    "\n",
    "separate_msgs()"
   ]
  },
  {
   "cell_type": "markdown",
   "metadata": {},
   "source": [
    "###  2. Procesamiento de texto"
   ]
  },
  {
   "cell_type": "markdown",
   "metadata": {},
   "source": [
    "El procesamiento es la tarea de realizar los pasos de preparacion en el corpus de texto sin formato para completar de manera eficiente una extraccion de texto o precesamiento de leguaje natural o cualquier otra tarea que incluya texto sin formato. El procesamiento de texto consta de varios pasos, aunque algunos de ellos puede no aplicarse a una tarea en particular debido a la naturaleza del conjunto de datos disponible. "
   ]
  },
  {
   "cell_type": "markdown",
   "metadata": {},
   "source": [
    "En esta tarea, el procesamiento de texto incluye los siguientes pasos de acuerdo con el conjunto de datos: "
   ]
  },
  {
   "cell_type": "markdown",
   "metadata": {},
   "source": [
    "### Eliminacion de signos de puntacion"
   ]
  },
  {
   "cell_type": "code",
   "execution_count": 14,
   "metadata": {},
   "outputs": [],
   "source": [
    "#Eliminacion de los signos de puntuacion de los mensajes de correo electronico\n",
    "def remove_msg_punctuations(email_msg):\n",
    "    puntuation_removed_msg = \"\".join([word for word in email_msg if word not in string.punctuation])\n",
    "    return puntuation_removed_msg"
   ]
  },
  {
   "cell_type": "markdown",
   "metadata": {},
   "source": [
    "### Convertir a minusculas "
   ]
  },
  {
   "cell_type": "markdown",
   "metadata": {},
   "source": [
    "Convertir a minisculas: La conversion de todos los caracteres del texto en un contexto comun, como los soportes en minusculas, impide identificar dos palabras de amnera diferente donde una esta en minuscula y la otra no. Por ejemplo. \"Primero\" y \"primero\" deben identificarse como iguales, por lo tanto, poner en miniscula todos los caracteres facilita la tarea. Ademas, las palabras de detencion tambien estan en minusculas, por lo que esto tambien haria posible eliminar palabras de detencion mas adelante."
   ]
  },
  {
   "cell_type": "markdown",
   "metadata": {},
   "source": [
    "### Tokenizing"
   ]
  },
  {
   "cell_type": "markdown",
   "metadata": {},
   "source": [
    "Tokenizing: La tokenizacion es la tarea de dividir el texto en partes significativas, es decir, tokens que incluyen oraciones y palabras. un Token se puede considerar como una instancia de una secuencia de caracteres en un texto particular que se agrupan para proporcionar una unidad semantica util para su posterior procesamiento. En esta tarea, la tokenizacion de palabras se realiza combinando espacios en blanco entre palabras como delimitador. Esto se logra"
   ]
  },
  {
   "cell_type": "code",
   "execution_count": 15,
   "metadata": {},
   "outputs": [],
   "source": [
    "#Convierte el texto en minusculas y tokenizing de palabras\n",
    "def tokenize_into_words(text):\n",
    "    tokens = re.split('\\W+', text)\n",
    "    return tokens"
   ]
  },
  {
   "cell_type": "markdown",
   "metadata": {},
   "source": [
    "### Palabras lematizantes: "
   ]
  },
  {
   "cell_type": "markdown",
   "metadata": {},
   "source": [
    "La derivacion es el proceso de eliminar afijos(sufijos, prefijos, infijos, circunfijos) de una palabra para obtener su raiz de palabra. Aunque la lematizacion esta relacionada con la derivacion, difiere ya que la lematizacion puede capturar formas cononicas basadas en el tema de una palabra. La lematizacion ocupa un vocabulario y un analisis morfologico de las palabras que lo hacen mas rapido y preciso que la derivacion. WordNeltemmatizer ha logrado la lematizacion en lenguaje python"
   ]
  },
  {
   "cell_type": "code",
   "execution_count": 30,
   "metadata": {},
   "outputs": [],
   "source": [
    "#Lemmatizing \n",
    "word_lemmatizer = WordNetLemmatizer()\n",
    "def lemmatization(tokenized_words):\n",
    "    lemmatized_text = [word_lemmatizer.lemmatize(word)for word in tokenized_words]\n",
    "    return ' '.join(lemmatized_text)\n",
    "\n",
    "def preprocessing_msgs(corpus):\n",
    "    categorized_text = pd.DataFrame(corpus)\n",
    "    categorized_text['nin_punc_message_body'] = categorized_text[0].apply(lambda msg: remove_msg_punctuations(msg))\n",
    "    categorized_text['tokenized_msg_body'] = categorized_text['nin_punc_message_body'].apply(lambda msg: tokenize_into_words(msg.lower()))\n",
    "    categorized_text['lemmatized_msg_words'] = categorized_text['tokenized_msg_body'].apply(lambda word_list: lemmatization(word_list))\n",
    "    return categorized_text['lemmatized_msg_words']"
   ]
  },
  {
   "cell_type": "markdown",
   "metadata": {},
   "source": [
    "### 3. Extraccion de caracteristicas "
   ]
  },
  {
   "cell_type": "markdown",
   "metadata": {},
   "source": [
    "Despues de la etapa de preprocesamiento, las caracterisiticas deben extraerse del texto. Las caracteristicas son las unidades que admiten la tarea de clasificacion y las bigrams son las caracteristicas en esta tarea de clasificacion de mensajes. Los bigrams o las caracteristicas se extraen del texto preprocesado. Inicialmente los unigramas se adquieren, y luego esos unigramas se utilizan para obtener los unigramas en cada corpus (\"ham\" y \"spam\")."
   ]
  },
  {
   "cell_type": "code",
   "execution_count": 37,
   "metadata": {},
   "outputs": [],
   "source": [
    "# Extraccion de caracteristicas. Ejemplo: n-grams\n",
    "def feature_extraction(preprocessed_text):\n",
    "    bigrams = []\n",
    "    unigrams_list = []\n",
    "    for msg in preprocessed_text:\n",
    "        #agregando end of and start of al mensaje\n",
    "        msg = '<s> ' +msg +' </s>'\n",
    "        unigrams_list.append(msg.split())\n",
    "    unigrams = [uni_list for sub_list in unigrams_list for uni_list in sub_list]\n",
    "    bigrams.extend(nltk.bigrams(unigrams))\n",
    "    return bigrams"
   ]
  },
  {
   "cell_type": "markdown",
   "metadata": {},
   "source": [
    "### 4.Eliminacion de Stop Words  "
   ]
  },
  {
   "cell_type": "markdown",
   "metadata": {},
   "source": [
    "Hay ciertas palabras en un idioma (se utiliza ingles en la practica) que son necesarias para una oracion o una secuencia de palabras, auqnue no contribuyen al significado de una frase considerada. La biblioteca del kit de herramientas de lenguaje natural (NLTK) en python proporciona palabras de detencion comunes para algunos idiomas. \n",
    "\n",
    "En lugar de eliminar las palabras de detencion en el paso de preprocesamiento , se realiza despues de extraer las caracteristicas del corpus para evitar la asusencia de biframs con palabras de una parada ((\"use,\" \"your\"), (\"to\", \"win\")) al adquirir las funciones, ya que tienen un impacto en el resultado final de la aplicacion. las palabras de detencion se pueden ignorar en esta recuperacion de informacion orientada a palabras clave debido a si efecto en la precision de la recuperacion. "
   ]
  },
  {
   "cell_type": "code",
   "execution_count": 32,
   "metadata": {},
   "outputs": [],
   "source": [
    "#Eliminando bigrans solo con stop words\n",
    "stopwords = nltk.corpus.stopwords.words('english')\n",
    "def filter_stopwords_bigrams(bigram_list):\n",
    "    filtered_bigrams = []\n",
    "    for bigram in bigram_list:\n",
    "        if bigram[0] in stopwords and bigram[1] in stopwords:\n",
    "            continue\n",
    "        filtered_bigrams.append(bigram)\n",
    "    return filtered_bigrams"
   ]
  },
  {
   "cell_type": "markdown",
   "metadata": {},
   "source": [
    "### 5. Obtener distribucion de frecuencia de caracteristicas "
   ]
  },
  {
   "cell_type": "markdown",
   "metadata": {},
   "source": [
    "La distribucion de frecuencia se utiliza para obtener la frecuencia de aparicion de cada elemento de vocabulario en un texto determinado."
   ]
  },
  {
   "cell_type": "code",
   "execution_count": 39,
   "metadata": {},
   "outputs": [],
   "source": [
    "# Adquieiendo la fecuencua de caracteristicas \n",
    "def ham_bigram_feature_frequency():\n",
    "    # Frecuencia de carcterisiticas para mensajes ham\n",
    "    ham_bigrams = feature_extraction(preprocessing_msgs(ham_text))\n",
    "    ham_bigram_frequency = nltk.FreqDist(filter_stopwords_bigrams(ham_bigrams))\n",
    "    return ham_bigram_frequency\n",
    "\n",
    "def spam_bigram_feature_frequency():\n",
    "    # frecuancia de caracteristicas para mensajes spam \n",
    "    spam_bigrams = feature_extraction(preprocessing_msgs(spam_text))\n",
    "    spam_bigram_frequency = nltk.FreqDist(filter_stopwords_bigrams(spam_bigrams))\n",
    "    return spam_bigram_frequency"
   ]
  },
  {
   "cell_type": "markdown",
   "metadata": {},
   "source": [
    "### 6. Construyendo un modelo para la prediccion "
   ]
  },
  {
   "cell_type": "markdown",
   "metadata": {},
   "source": [
    "El modelo para clasificar un mensaje dado como \"ham\" o \"spam\" se ha abordado calculando las probabilidades de bigram dentro de cada corpus. Inicialmente, el mensaje dado debe rpocesarse previamente oara avanzar con la casificacion, incluida la eliminacion de signos de puntuacion, el cambio de todos los caracteres a minusculas, la tokenizacion y la lematizacion. Luego ¿, los bigrams se extraen del texto preprocesado para calcular finalmente la probabilidad de que el texto este en cada corpus \"ham\" o \"spam\" "
   ]
  },
  {
   "cell_type": "code",
   "execution_count": 41,
   "metadata": {},
   "outputs": [
    {
     "name": "stdout",
     "output_type": "stream",
     "text": [
      "========================== Calculando Probabilidades ==========================\n",
      "----------- Frecuencias Ham ------------\n",
      "('<s>', 'Click')  ocurre  1\n",
      "('Click', 'here')  ocurre  1\n",
      "('here', 'to')  ocurre  1\n",
      "('to', 'win')  ocurre  2\n",
      "('win', 'an')  ocurre  1\n",
      "('an', 'iphone')  ocurre  2\n",
      "('iphone', '11')  ocurre  1\n",
      "('11', 'pro')  ocurre  1\n",
      "('pro', 'max')  ocurre  1\n",
      "('max', '</s>')  ocurre  1\n",
      "\n",
      "\n",
      "----------- Frecuencias Spam ------------\n",
      "('<s>', 'Click')  ocurre  1\n",
      "('Click', 'here')  ocurre  1\n",
      "('here', 'to')  ocurre  1\n",
      "('to', 'win')  ocurre  19\n",
      "('win', 'an')  ocurre  4\n",
      "('an', 'iphone')  ocurre  1\n",
      "('iphone', '11')  ocurre  1\n",
      "('11', 'pro')  ocurre  1\n",
      "('pro', 'max')  ocurre  1\n",
      "('max', '</s>')  ocurre  1\n",
      "\n",
      "\n",
      "Probabilidad Ham: 2.714206339209388e-49\n",
      "Probabildiad Spam: 1.0761533819115831e-41\n",
      "\n",
      "\n",
      "\"Click here,  ..to win an iphone 11 pro max\" es un mensaje Spam\n",
      "\n",
      "\n",
      "========================== Calculando Probabilidades ==========================\n",
      "----------- Frecuencias Ham ------------\n",
      "('<s>', 'Carlos')  ocurre  1\n",
      "('Carlos', 'Rascon')  ocurre  1\n",
      "('Rascon', '</s>')  ocurre  1\n",
      "\n",
      "\n",
      "----------- Frecuencias Spam ------------\n",
      "('<s>', 'Carlos')  ocurre  1\n",
      "('Carlos', 'Rascon')  ocurre  1\n",
      "('Rascon', '</s>')  ocurre  1\n",
      "\n",
      "\n",
      "Probabilidad Ham: 5.704585816644313e-16\n",
      "Probabildiad Spam: 1.1167608453502225e-13\n",
      "\n",
      "\n",
      "\"Carlos Rascon \" es un mensaje Spam\n",
      "\n",
      "\n"
     ]
    }
   ],
   "source": [
    "# Calculando probabilidades del bigram\n",
    "def bigram_probability(message):\n",
    "    probability_h = 1\n",
    "    probability_s = 1\n",
    "    # Preprocesando los mensaje de entrada\n",
    "    punc_removed_message = \"\".join(word for word in message if word not in string.punctuation)\n",
    "    punc_removed_message = '<s> ' +punc_removed_message +' </s>'\n",
    "    tokenized_msg = re.split('\\s+', punc_removed_message)\n",
    "    lemmatized_msg = [word_lemmatizer.lemmatize(word)for word in tokenized_msg]\n",
    "    # bigrams para el mensaje\n",
    "    bigrams_for_msg = list(nltk.bigrams(lemmatized_msg))\n",
    "    # Eliminamos stop words\n",
    "    ham_unigrams = [word for word in feature_extraction(preprocessing_msgs(ham_text)) if word not in stopwords]\n",
    "    spam_unigrams = [word for word in feature_extraction(preprocessing_msgs(spam_text)) if word not in stopwords]\n",
    "    # Frecuencias de bigrams extraidas\n",
    "    ham_frequency = ham_bigram_feature_frequency()\n",
    "    spam_frequency  = spam_bigram_feature_frequency()\n",
    "    print('========================== Calculando Probabilidades ==========================')\n",
    "    print('----------- Frecuencias Ham ------------')\n",
    "    for bigram in bigrams_for_msg:\n",
    "        # probabilidad de la primera palabra en bigram\n",
    "        ham_probability_denominator = 0\n",
    "        # probabilidad de bigram (suavizado) \n",
    "        ham_probability_of_bigram = ham_frequency[bigram] + 1\n",
    "        print(bigram, ' ocurre ', ham_probability_of_bigram)\n",
    "        for (first_unigram, second_unigram) in filter_stopwords_bigrams(ham_unigrams):\n",
    "            ham_probability_denominator += 1\n",
    "            if(first_unigram == bigram[0]):\n",
    "                ham_probability_denominator += ham_frequency[first_unigram, second_unigram]\n",
    "        probability = ham_probability_of_bigram / ham_probability_denominator\n",
    "        probability_h *= probability\n",
    "    print('\\n')\n",
    "    print('----------- Frecuencias Spam ------------')\n",
    "    for bigram in bigrams_for_msg:\n",
    "        # probabilidad de la primera palabra en bigram\n",
    "        spam_probability_denominator = 0\n",
    "        # probabilidad de bigram (suavizado) \n",
    "        spam_probability_of_bigram = spam_frequency[bigram] + 1\n",
    "        print(bigram, ' ocurre ', spam_probability_of_bigram)\n",
    "        for (first_unigram, second_unigram) in filter_stopwords_bigrams(spam_unigrams):\n",
    "            spam_probability_denominator += 1\n",
    "            if(first_unigram == bigram[0]):\n",
    "                spam_probability_denominator += spam_frequency[first_unigram, second_unigram]\n",
    "        probability = spam_probability_of_bigram / spam_probability_denominator\n",
    "        probability_s *= probability\n",
    "    print('\\n')\n",
    "    print('Probabilidad Ham: ' +str(probability_h))\n",
    "    print('Probabildiad Spam: ' +str(probability_s))\n",
    "    print('\\n')\n",
    "    if(probability_h >= probability_s):\n",
    "        print('\\\"' +message +'\\\" es un mensaje Ham')\n",
    "    else:\n",
    "        print('\\\"' +message +'\\\" es un mensaje Spam')\n",
    "    print('\\n')\n",
    "bigram_probability('Click here,  ..to win an iphone 11 pro max')\n",
    "bigram_probability('Carlos Rascon ')"
   ]
  },
  {
   "cell_type": "code",
   "execution_count": null,
   "metadata": {},
   "outputs": [],
   "source": []
  }
 ],
 "metadata": {
  "kernelspec": {
   "display_name": "Python 3",
   "language": "python",
   "name": "python3"
  },
  "language_info": {
   "codemirror_mode": {
    "name": "ipython",
    "version": 3
   },
   "file_extension": ".py",
   "mimetype": "text/x-python",
   "name": "python",
   "nbconvert_exporter": "python",
   "pygments_lexer": "ipython3",
   "version": "3.7.6"
  }
 },
 "nbformat": 4,
 "nbformat_minor": 4
}
